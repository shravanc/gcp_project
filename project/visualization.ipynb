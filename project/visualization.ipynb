{
 "cells": [
  {
   "cell_type": "code",
   "execution_count": 5,
   "metadata": {},
   "outputs": [],
   "source": [
    "import pandas as pd\n",
    "import numpy as np\n",
    "import matplotlib.pyplot as plt\n",
    "import seaborn as sns"
   ]
  },
  {
   "cell_type": "code",
   "execution_count": 2,
   "metadata": {},
   "outputs": [],
   "source": [
    "df = pd.read_csv('./one.1.csv')"
   ]
  },
  {
   "cell_type": "code",
   "execution_count": 3,
   "metadata": {},
   "outputs": [
    {
     "data": {
      "text/html": [
       "<div>\n",
       "<style scoped>\n",
       "    .dataframe tbody tr th:only-of-type {\n",
       "        vertical-align: middle;\n",
       "    }\n",
       "\n",
       "    .dataframe tbody tr th {\n",
       "        vertical-align: top;\n",
       "    }\n",
       "\n",
       "    .dataframe thead th {\n",
       "        text-align: right;\n",
       "    }\n",
       "</style>\n",
       "<table border=\"1\" class=\"dataframe\">\n",
       "  <thead>\n",
       "    <tr style=\"text-align: right;\">\n",
       "      <th></th>\n",
       "      <th>start_time</th>\n",
       "      <th>end_time</th>\n",
       "      <th>module</th>\n",
       "      <th>class_type</th>\n",
       "      <th>staff</th>\n",
       "      <th>room_number</th>\n",
       "      <th>duration</th>\n",
       "      <th>start_weeek</th>\n",
       "      <th>week</th>\n",
       "      <th>day</th>\n",
       "      <th>course</th>\n",
       "    </tr>\n",
       "  </thead>\n",
       "  <tbody>\n",
       "    <tr>\n",
       "      <th>0</th>\n",
       "      <td>9</td>\n",
       "      <td>11</td>\n",
       "      <td>GA4142</td>\n",
       "      <td>LEC</td>\n",
       "      <td>DE BRUN SORCHA MS FINNEGAN AENGUS DR</td>\n",
       "      <td>FB028</td>\n",
       "      <td>1-10,12-13</td>\n",
       "      <td>1</td>\n",
       "      <td>1</td>\n",
       "      <td>Monday</td>\n",
       "      <td>LM044</td>\n",
       "    </tr>\n",
       "    <tr>\n",
       "      <th>1</th>\n",
       "      <td>9</td>\n",
       "      <td>11</td>\n",
       "      <td>GA4142</td>\n",
       "      <td>LEC</td>\n",
       "      <td>DE BRUN SORCHA MS FINNEGAN AENGUS DR</td>\n",
       "      <td>FB028</td>\n",
       "      <td>1-10,12-13</td>\n",
       "      <td>1</td>\n",
       "      <td>2</td>\n",
       "      <td>Monday</td>\n",
       "      <td>LM044</td>\n",
       "    </tr>\n",
       "    <tr>\n",
       "      <th>2</th>\n",
       "      <td>9</td>\n",
       "      <td>11</td>\n",
       "      <td>GA4142</td>\n",
       "      <td>LEC</td>\n",
       "      <td>DE BRUN SORCHA MS FINNEGAN AENGUS DR</td>\n",
       "      <td>FB028</td>\n",
       "      <td>1-10,12-13</td>\n",
       "      <td>1</td>\n",
       "      <td>3</td>\n",
       "      <td>Monday</td>\n",
       "      <td>LM044</td>\n",
       "    </tr>\n",
       "    <tr>\n",
       "      <th>3</th>\n",
       "      <td>9</td>\n",
       "      <td>11</td>\n",
       "      <td>GA4142</td>\n",
       "      <td>LEC</td>\n",
       "      <td>DE BRUN SORCHA MS FINNEGAN AENGUS DR</td>\n",
       "      <td>FB028</td>\n",
       "      <td>1-10,12-13</td>\n",
       "      <td>1</td>\n",
       "      <td>4</td>\n",
       "      <td>Monday</td>\n",
       "      <td>LM044</td>\n",
       "    </tr>\n",
       "    <tr>\n",
       "      <th>4</th>\n",
       "      <td>9</td>\n",
       "      <td>11</td>\n",
       "      <td>GA4142</td>\n",
       "      <td>LEC</td>\n",
       "      <td>DE BRUN SORCHA MS FINNEGAN AENGUS DR</td>\n",
       "      <td>FB028</td>\n",
       "      <td>1-10,12-13</td>\n",
       "      <td>1</td>\n",
       "      <td>5</td>\n",
       "      <td>Monday</td>\n",
       "      <td>LM044</td>\n",
       "    </tr>\n",
       "    <tr>\n",
       "      <th>...</th>\n",
       "      <td>...</td>\n",
       "      <td>...</td>\n",
       "      <td>...</td>\n",
       "      <td>...</td>\n",
       "      <td>...</td>\n",
       "      <td>...</td>\n",
       "      <td>...</td>\n",
       "      <td>...</td>\n",
       "      <td>...</td>\n",
       "      <td>...</td>\n",
       "      <td>...</td>\n",
       "    </tr>\n",
       "    <tr>\n",
       "      <th>12619</th>\n",
       "      <td>17</td>\n",
       "      <td>18</td>\n",
       "      <td>EC4102</td>\n",
       "      <td>TUT</td>\n",
       "      <td>TA3ECO</td>\n",
       "      <td>ERB006</td>\n",
       "      <td>2-10,12-13</td>\n",
       "      <td>2</td>\n",
       "      <td>9</td>\n",
       "      <td>Friday</td>\n",
       "      <td>LM056</td>\n",
       "    </tr>\n",
       "    <tr>\n",
       "      <th>12620</th>\n",
       "      <td>17</td>\n",
       "      <td>18</td>\n",
       "      <td>EC4102</td>\n",
       "      <td>TUT</td>\n",
       "      <td>TA3ECO</td>\n",
       "      <td>ERB006</td>\n",
       "      <td>2-10,12-13</td>\n",
       "      <td>2</td>\n",
       "      <td>10</td>\n",
       "      <td>Friday</td>\n",
       "      <td>LM056</td>\n",
       "    </tr>\n",
       "    <tr>\n",
       "      <th>12621</th>\n",
       "      <td>17</td>\n",
       "      <td>18</td>\n",
       "      <td>EC4102</td>\n",
       "      <td>TUT</td>\n",
       "      <td>TA3ECO</td>\n",
       "      <td>ERB006</td>\n",
       "      <td>2-10,12-13</td>\n",
       "      <td>2</td>\n",
       "      <td>12</td>\n",
       "      <td>Friday</td>\n",
       "      <td>LM056</td>\n",
       "    </tr>\n",
       "    <tr>\n",
       "      <th>12622</th>\n",
       "      <td>17</td>\n",
       "      <td>18</td>\n",
       "      <td>EC4102</td>\n",
       "      <td>TUT</td>\n",
       "      <td>TA3ECO</td>\n",
       "      <td>ERB006</td>\n",
       "      <td>2-10,12-13</td>\n",
       "      <td>2</td>\n",
       "      <td>13</td>\n",
       "      <td>Friday</td>\n",
       "      <td>LM056</td>\n",
       "    </tr>\n",
       "    <tr>\n",
       "      <th>12623</th>\n",
       "      <td>17</td>\n",
       "      <td>18</td>\n",
       "      <td>EP4003</td>\n",
       "      <td>TUT</td>\n",
       "      <td>TA1MMA</td>\n",
       "      <td>P1006</td>\n",
       "      <td>3-10,12</td>\n",
       "      <td>3</td>\n",
       "      <td>12</td>\n",
       "      <td>Friday</td>\n",
       "      <td>LM056</td>\n",
       "    </tr>\n",
       "  </tbody>\n",
       "</table>\n",
       "<p>12624 rows × 11 columns</p>\n",
       "</div>"
      ],
      "text/plain": [
       "       start_time  end_time  module class_type  \\\n",
       "0               9        11  GA4142        LEC   \n",
       "1               9        11  GA4142        LEC   \n",
       "2               9        11  GA4142        LEC   \n",
       "3               9        11  GA4142        LEC   \n",
       "4               9        11  GA4142        LEC   \n",
       "...           ...       ...     ...        ...   \n",
       "12619          17        18  EC4102        TUT   \n",
       "12620          17        18  EC4102        TUT   \n",
       "12621          17        18  EC4102        TUT   \n",
       "12622          17        18  EC4102        TUT   \n",
       "12623          17        18  EP4003        TUT   \n",
       "\n",
       "                                      staff room_number    duration  \\\n",
       "0      DE BRUN SORCHA MS FINNEGAN AENGUS DR       FB028  1-10,12-13   \n",
       "1      DE BRUN SORCHA MS FINNEGAN AENGUS DR       FB028  1-10,12-13   \n",
       "2      DE BRUN SORCHA MS FINNEGAN AENGUS DR       FB028  1-10,12-13   \n",
       "3      DE BRUN SORCHA MS FINNEGAN AENGUS DR       FB028  1-10,12-13   \n",
       "4      DE BRUN SORCHA MS FINNEGAN AENGUS DR       FB028  1-10,12-13   \n",
       "...                                     ...         ...         ...   \n",
       "12619                                TA3ECO      ERB006  2-10,12-13   \n",
       "12620                                TA3ECO      ERB006  2-10,12-13   \n",
       "12621                                TA3ECO      ERB006  2-10,12-13   \n",
       "12622                                TA3ECO      ERB006  2-10,12-13   \n",
       "12623                                TA1MMA       P1006     3-10,12   \n",
       "\n",
       "      start_weeek  week     day course  \n",
       "0               1     1  Monday  LM044  \n",
       "1               1     2  Monday  LM044  \n",
       "2               1     3  Monday  LM044  \n",
       "3               1     4  Monday  LM044  \n",
       "4               1     5  Monday  LM044  \n",
       "...           ...   ...     ...    ...  \n",
       "12619           2     9  Friday  LM056  \n",
       "12620           2    10  Friday  LM056  \n",
       "12621           2    12  Friday  LM056  \n",
       "12622           2    13  Friday  LM056  \n",
       "12623           3    12  Friday  LM056  \n",
       "\n",
       "[12624 rows x 11 columns]"
      ]
     },
     "execution_count": 3,
     "metadata": {},
     "output_type": "execute_result"
    }
   ],
   "source": [
    "df"
   ]
  },
  {
   "cell_type": "code",
   "execution_count": 4,
   "metadata": {},
   "outputs": [
    {
     "data": {
      "text/html": [
       "<div>\n",
       "<style scoped>\n",
       "    .dataframe tbody tr th:only-of-type {\n",
       "        vertical-align: middle;\n",
       "    }\n",
       "\n",
       "    .dataframe tbody tr th {\n",
       "        vertical-align: top;\n",
       "    }\n",
       "\n",
       "    .dataframe thead th {\n",
       "        text-align: right;\n",
       "    }\n",
       "</style>\n",
       "<table border=\"1\" class=\"dataframe\">\n",
       "  <thead>\n",
       "    <tr style=\"text-align: right;\">\n",
       "      <th></th>\n",
       "      <th>start_time</th>\n",
       "      <th>end_time</th>\n",
       "      <th>week</th>\n",
       "    </tr>\n",
       "  </thead>\n",
       "  <tbody>\n",
       "    <tr>\n",
       "      <th>count</th>\n",
       "      <td>12624.000000</td>\n",
       "      <td>12624.000000</td>\n",
       "      <td>12624.000000</td>\n",
       "    </tr>\n",
       "    <tr>\n",
       "      <th>mean</th>\n",
       "      <td>13.844027</td>\n",
       "      <td>14.984316</td>\n",
       "      <td>6.965463</td>\n",
       "    </tr>\n",
       "    <tr>\n",
       "      <th>std</th>\n",
       "      <td>2.620371</td>\n",
       "      <td>2.577099</td>\n",
       "      <td>3.571931</td>\n",
       "    </tr>\n",
       "    <tr>\n",
       "      <th>min</th>\n",
       "      <td>9.000000</td>\n",
       "      <td>10.000000</td>\n",
       "      <td>1.000000</td>\n",
       "    </tr>\n",
       "    <tr>\n",
       "      <th>25%</th>\n",
       "      <td>12.000000</td>\n",
       "      <td>13.000000</td>\n",
       "      <td>4.000000</td>\n",
       "    </tr>\n",
       "    <tr>\n",
       "      <th>50%</th>\n",
       "      <td>14.000000</td>\n",
       "      <td>15.000000</td>\n",
       "      <td>7.000000</td>\n",
       "    </tr>\n",
       "    <tr>\n",
       "      <th>75%</th>\n",
       "      <td>16.000000</td>\n",
       "      <td>17.000000</td>\n",
       "      <td>10.000000</td>\n",
       "    </tr>\n",
       "    <tr>\n",
       "      <th>max</th>\n",
       "      <td>20.000000</td>\n",
       "      <td>22.000000</td>\n",
       "      <td>13.000000</td>\n",
       "    </tr>\n",
       "  </tbody>\n",
       "</table>\n",
       "</div>"
      ],
      "text/plain": [
       "         start_time      end_time          week\n",
       "count  12624.000000  12624.000000  12624.000000\n",
       "mean      13.844027     14.984316      6.965463\n",
       "std        2.620371      2.577099      3.571931\n",
       "min        9.000000     10.000000      1.000000\n",
       "25%       12.000000     13.000000      4.000000\n",
       "50%       14.000000     15.000000      7.000000\n",
       "75%       16.000000     17.000000     10.000000\n",
       "max       20.000000     22.000000     13.000000"
      ]
     },
     "execution_count": 4,
     "metadata": {},
     "output_type": "execute_result"
    }
   ],
   "source": [
    "df.describe()"
   ]
  },
  {
   "cell_type": "code",
   "execution_count": 6,
   "metadata": {},
   "outputs": [
    {
     "data": {
      "image/png": "[encoded data removed]",
      "text/plain": [
       "<Figure size 432x288 with 2 Axes>"
      ]
     },
     "metadata": {},
     "output_type": "display_data"
    }
   ],
   "source": [
    "sns.heatmap(df.corr());"
   ]
  },
  {
   "cell_type": "code",
   "execution_count": 7,
   "metadata": {},
   "outputs": [
    {
     "data": {
      "image/png": "[encoded data removed]",
      "text/plain": [
       "<Figure size 540x540 with 12 Axes>"
      ]
     },
     "metadata": {},
     "output_type": "display_data"
    }
   ],
   "source": [
    "# note that by applying the method dropna() we drop all rows with missing values \n",
    "sns.pairplot(data=df[['start_time', 'end_time', 'week']].dropna())\n",
    "plt.show()"
   ]
  },
  {
   "cell_type": "code",
   "execution_count": 8,
   "metadata": {},
   "outputs": [
    {
     "data": {
      "image/png": "[encoded data removed]",
      "text/plain": [
       "<Figure size 432x288 with 1 Axes>"
      ]
     },
     "metadata": {},
     "output_type": "display_data"
    }
   ],
   "source": [
    "df['start_time'].hist(bins=50)\n",
    "plt.xlabel('Time')\n",
    "plt.ylabel('Number of days')\n",
    "plt.show()"
   ]
  },
  {
   "cell_type": "code",
   "execution_count": 9,
   "metadata": {},
   "outputs": [
    {
     "data": {
      "image/png": "[encoded data removed]",
      "text/plain": [
       "<Figure size 432x288 with 1 Axes>"
      ]
     },
     "metadata": {},
     "output_type": "display_data"
    }
   ],
   "source": [
    "df['end_time'].hist(bins=50)\n",
    "plt.xlabel('Time')\n",
    "plt.ylabel('Number of days')\n",
    "plt.show()"
   ]
  },
  {
   "cell_type": "code",
   "execution_count": 10,
   "metadata": {},
   "outputs": [
    {
     "data": {
      "image/png": "[encoded data removed]",
      "text/plain": [
       "<Figure size 432x288 with 1 Axes>"
      ]
     },
     "metadata": {},
     "output_type": "display_data"
    }
   ],
   "source": [
    "df['week'].hist(bins=50)\n",
    "plt.xlabel('Time')\n",
    "plt.ylabel('Number of days')\n",
    "plt.show()"
   ]
  },
  {
   "cell_type": "code",
   "execution_count": null,
   "metadata": {},
   "outputs": [],
   "source": []
  }
 ],
 "metadata": {
  "kernelspec": {
   "display_name": "Python 3",
   "language": "python",
   "name": "python3"
  },
  "language_info": {
   "codemirror_mode": {
    "name": "ipython",
    "version": 3
   },
   "file_extension": ".py",
   "mimetype": "text/x-python",
   "name": "python",
   "nbconvert_exporter": "python",
   "pygments_lexer": "ipython3",
   "version": "3.6.9"
  }
 },
 "nbformat": 4,
 "nbformat_minor": 4
}
